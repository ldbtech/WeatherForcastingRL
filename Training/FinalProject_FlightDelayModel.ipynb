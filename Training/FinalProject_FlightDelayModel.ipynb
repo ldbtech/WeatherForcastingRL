{
  "nbformat": 4,
  "nbformat_minor": 0,
  "metadata": {
    "colab": {
      "provenance": []
    },
    "kernelspec": {
      "name": "python3",
      "display_name": "Python 3"
    },
    "language_info": {
      "name": "python"
    }
  },
  "cells": [
    {
      "cell_type": "code",
      "execution_count": 1,
      "metadata": {
        "id": "sx2JhQ_a7z-E"
      },
      "outputs": [],
      "source": [
        "#Importing all the libraries\n",
        "import pandas as pd\n",
        "import numpy as np\n",
        "import matplotlib.pyplot as plt\n",
        "from sklearn.ensemble import RandomForestClassifier #A supervised model for classification purpose, multiple decision trees in training phase and combines for final product\n",
        "from sklearn.metrics import accuracy_score, confusion_matrix, classification_report\n",
        "from sklearn.model_selection import train_test_split, GridSearchCV #GridSearchCV - used to perform gridSearch to find the best combination of hyperparamaters for best performance on training set\n",
        "from sklearn.metrics import confusion_matrix\n",
        "import seaborn as sns\n",
        "\n",
        "\n",
        "\n"
      ]
    },
    {
      "cell_type": "code",
      "source": [
        "#Loading the data for the model\n",
        "df = pd.read_csv(\"traindata.csv\")"
      ],
      "metadata": {
        "id": "COG5kZnH_KAF"
      },
      "execution_count": 2,
      "outputs": []
    },
    {
      "cell_type": "code",
      "source": [
        "#weatherfeatures needed to train the model\n",
        "weather_features = ['PRCP', 'SNOW', 'SNWD', 'TMAX', 'AWND', 'LATITUDE', 'LONGITUDE', 'DEP_AIRPORT_HIST', 'DAY_HISTORICAL', 'DEP_DEL15']\n",
        "df = df[weather_features]"
      ],
      "metadata": {
        "id": "y0QEVg-z_KCq"
      },
      "execution_count": 3,
      "outputs": []
    },
    {
      "cell_type": "code",
      "source": [
        "print(df)"
      ],
      "metadata": {
        "colab": {
          "base_uri": "https://localhost:8080/"
        },
        "id": "VynnXDXD_KGC",
        "outputId": "d7a4c545-3c79-432b-f6d6-70688e7d9fc7"
      },
      "execution_count": 4,
      "outputs": [
        {
          "output_type": "stream",
          "name": "stdout",
          "text": [
            "      PRCP  SNOW  SNWD  TMAX   AWND  LATITUDE  LONGITUDE  DEP_AIRPORT_HIST  \\\n",
            "0     0.00   0.0   0.0  95.0   4.25    35.219    -80.936          0.273236   \n",
            "1     0.00   0.0   0.0  71.0  11.41    39.774   -104.880          0.121849   \n",
            "2     0.00   0.0   0.0  54.0   0.45    34.729    -92.234          0.187867   \n",
            "3     0.00   0.0   0.0  64.0   8.05    32.733   -117.187          0.141446   \n",
            "4     0.01   0.0   0.0  94.0  10.51    41.978    -87.906          0.193761   \n",
            "...    ...   ...   ...   ...    ...       ...        ...               ...   \n",
            "3047  0.00   0.0   0.0  73.0  10.96    37.619   -122.375          0.134914   \n",
            "3048  0.15   0.0   0.0  49.0  10.96    45.589   -122.595          0.187867   \n",
            "3049  0.00   0.0   0.0  75.0   5.82    41.978    -87.906          0.187867   \n",
            "3050  0.00   0.0   0.0  45.0  13.20    33.641    -84.427          0.123710   \n",
            "3051  0.27   0.0   0.0  83.0  12.30    32.894    -97.030          0.187867   \n",
            "\n",
            "      DAY_HISTORICAL  DEP_DEL15  \n",
            "0           0.222538          0  \n",
            "1           0.237972          0  \n",
            "2           0.139886          0  \n",
            "3           0.132868          0  \n",
            "4           0.203027          0  \n",
            "...              ...        ...  \n",
            "3047        0.193713          0  \n",
            "3048        0.236965          0  \n",
            "3049        0.270709          1  \n",
            "3050        0.198972          0  \n",
            "3051        0.190877          1  \n",
            "\n",
            "[3052 rows x 10 columns]\n"
          ]
        }
      ]
    },
    {
      "cell_type": "code",
      "source": [
        "#Preprocessing and cleaning the data, removing all the missing values\n",
        "df.dropna(inplace = True)\n"
      ],
      "metadata": {
        "id": "03oNJ2A-_KIH"
      },
      "execution_count": 5,
      "outputs": []
    },
    {
      "cell_type": "code",
      "source": [
        "print(df)"
      ],
      "metadata": {
        "colab": {
          "base_uri": "https://localhost:8080/"
        },
        "id": "_-6lhaEt_KJ9",
        "outputId": "fd127b6a-d406-455d-a301-b1afdd39b71c"
      },
      "execution_count": 6,
      "outputs": [
        {
          "output_type": "stream",
          "name": "stdout",
          "text": [
            "      PRCP  SNOW  SNWD  TMAX   AWND  LATITUDE  LONGITUDE  DEP_AIRPORT_HIST  \\\n",
            "0     0.00   0.0   0.0  95.0   4.25    35.219    -80.936          0.273236   \n",
            "1     0.00   0.0   0.0  71.0  11.41    39.774   -104.880          0.121849   \n",
            "2     0.00   0.0   0.0  54.0   0.45    34.729    -92.234          0.187867   \n",
            "3     0.00   0.0   0.0  64.0   8.05    32.733   -117.187          0.141446   \n",
            "4     0.01   0.0   0.0  94.0  10.51    41.978    -87.906          0.193761   \n",
            "...    ...   ...   ...   ...    ...       ...        ...               ...   \n",
            "3047  0.00   0.0   0.0  73.0  10.96    37.619   -122.375          0.134914   \n",
            "3048  0.15   0.0   0.0  49.0  10.96    45.589   -122.595          0.187867   \n",
            "3049  0.00   0.0   0.0  75.0   5.82    41.978    -87.906          0.187867   \n",
            "3050  0.00   0.0   0.0  45.0  13.20    33.641    -84.427          0.123710   \n",
            "3051  0.27   0.0   0.0  83.0  12.30    32.894    -97.030          0.187867   \n",
            "\n",
            "      DAY_HISTORICAL  DEP_DEL15  \n",
            "0           0.222538          0  \n",
            "1           0.237972          0  \n",
            "2           0.139886          0  \n",
            "3           0.132868          0  \n",
            "4           0.203027          0  \n",
            "...              ...        ...  \n",
            "3047        0.193713          0  \n",
            "3048        0.236965          0  \n",
            "3049        0.270709          1  \n",
            "3050        0.198972          0  \n",
            "3051        0.190877          1  \n",
            "\n",
            "[3052 rows x 10 columns]\n"
          ]
        }
      ]
    },
    {
      "cell_type": "code",
      "source": [
        "#Spliting the data into training and testing set\n",
        "X = df.iloc[:,:-1].values\n",
        "y = df.iloc[:,-1].values"
      ],
      "metadata": {
        "id": "VS8ygYxk_KO1"
      },
      "execution_count": 7,
      "outputs": []
    },
    {
      "cell_type": "code",
      "source": [
        "#Training set\n",
        "print(X)"
      ],
      "metadata": {
        "colab": {
          "base_uri": "https://localhost:8080/"
        },
        "id": "iVrZbrLA_KQw",
        "outputId": "305fe144-c36c-4847-e8ad-1d7daf9987b5"
      },
      "execution_count": 8,
      "outputs": [
        {
          "output_type": "stream",
          "name": "stdout",
          "text": [
            "[[   0.            0.            0.         ...  -80.936\n",
            "     0.27323574    0.22253848]\n",
            " [   0.            0.            0.         ... -104.88\n",
            "     0.12184874    0.23797187]\n",
            " [   0.            0.            0.         ...  -92.234\n",
            "     0.18786731    0.13988607]\n",
            " ...\n",
            " [   0.            0.            0.         ...  -87.906\n",
            "     0.18786731    0.27070916]\n",
            " [   0.            0.            0.         ...  -84.427\n",
            "     0.12370968    0.19897176]\n",
            " [   0.27          0.            0.         ...  -97.03\n",
            "     0.18786731    0.1908767 ]]\n"
          ]
        }
      ]
    },
    {
      "cell_type": "code",
      "source": [
        "#Testing set\n",
        "print(y)"
      ],
      "metadata": {
        "colab": {
          "base_uri": "https://localhost:8080/"
        },
        "id": "mldO1qtk_KR2",
        "outputId": "1c55597d-753e-4d1f-d3e1-f4d65550c0dd"
      },
      "execution_count": 9,
      "outputs": [
        {
          "output_type": "stream",
          "name": "stdout",
          "text": [
            "[0 0 0 ... 1 0 1]\n"
          ]
        }
      ]
    },
    {
      "cell_type": "code",
      "source": [
        "X_train,X_test,y_train,y_test = train_test_split(X, y, test_size=0.2, random_state= 40)\n"
      ],
      "metadata": {
        "id": "viiDGjyr_KVT"
      },
      "execution_count": 10,
      "outputs": []
    },
    {
      "cell_type": "code",
      "source": [
        "#Now getting all the data, we have to train our random forest classifier\n",
        "forest_classifier =  RandomForestClassifier(random_state= 40)\n",
        "#hyperparameter values to be searched during the GridSearchCV \n",
        "dict_object = {'n_estimators': [50, 100, 200], 'max_depth': [None, 5, 10], 'min_samples_split': [2, 5, 10]}\n",
        "search_Grid = GridSearchCV(forest_classifier,dict_object, cv = 10, n_jobs = -1) #njobs = no of cpu cores,cv = cross validation fold depending on your dataset\n",
        "search_Grid.fit(X_train,y_train)\n",
        "#getting the best estimator\n",
        "forest_best_est = search_Grid.best_estimator_\n",
        "\n"
      ],
      "metadata": {
        "id": "D9qsHFe1_KXX"
      },
      "execution_count": 11,
      "outputs": []
    },
    {
      "cell_type": "code",
      "source": [
        "y_predict = forest_best_est.predict(X_test)\n",
        "confusion_matrix = confusion_matrix(y_test,y_predict)\n",
        "label_name = ['Not dealyed', 'Delayed']\n",
        "sns.heatmap(confusion_matrix, annot=True, fmt='d', cmap='Reds', xticklabels=label_name, yticklabels=label_name)\n",
        "#Plotting the predicted and the actualvalues\n",
        "plt.title('Flight Delay Prediction Confusion Matrix')\n",
        "plt.xlabel('Predicted Class')\n",
        "plt.ylabel('Actual Class')\n",
        "\n",
        "# Show plot\n",
        "plt.show()"
      ],
      "metadata": {
        "colab": {
          "base_uri": "https://localhost:8080/",
          "height": 472
        },
        "id": "2J48qTYx_KZa",
        "outputId": "9931d044-48d5-478d-8793-c301e42319f4"
      },
      "execution_count": 12,
      "outputs": [
        {
          "output_type": "display_data",
          "data": {
            "text/plain": [
              "<Figure size 640x480 with 2 Axes>"
            ],
            "image/png": "[encoded data removed]"
          },
          "metadata": {}
        }
      ]
    },
    {
      "cell_type": "code",
      "source": [
        "#Accuracy checking\n",
        "print(\"Accuracy score:\", accuracy_score(y_test, y_predict))\n",
        "print(\"Classification report: \", classification_report(y_test, y_predict))\n",
        "\n",
        "#RESUlT : Accuracy rate of 82%\n"
      ],
      "metadata": {
        "colab": {
          "base_uri": "https://localhost:8080/"
        },
        "id": "5T6XhVNI_Kax",
        "outputId": "67b96bcc-274d-419d-f93c-7c92d0a2a20a"
      },
      "execution_count": 13,
      "outputs": [
        {
          "output_type": "stream",
          "name": "stdout",
          "text": [
            "Accuracy score: 0.8183306055646481\n",
            "Classification report:                precision    recall  f1-score   support\n",
            "\n",
            "           0       0.82      1.00      0.90       501\n",
            "           1       0.00      0.00      0.00       110\n",
            "\n",
            "    accuracy                           0.82       611\n",
            "   macro avg       0.41      0.50      0.45       611\n",
            "weighted avg       0.67      0.82      0.74       611\n",
            "\n"
          ]
        }
      ]
    },
    {
      "cell_type": "code",
      "source": [],
      "metadata": {
        "id": "p3DgP2fd_KdD"
      },
      "execution_count": 13,
      "outputs": []
    }
  ]
}