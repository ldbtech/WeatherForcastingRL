{
  "nbformat": 4,
  "nbformat_minor": 0,
  "metadata": {
    "colab": {
      "provenance": []
    },
    "kernelspec": {
      "name": "python3",
      "display_name": "Python 3"
    },
    "language_info": {
      "name": "python"
    }
  },
  "cells": [
    {
      "cell_type": "code",
      "execution_count": null,
      "metadata": {
        "id": "sx2JhQ_a7z-E"
      },
      "outputs": [],
      "source": [
        "#Importing all the libraries\n",
        "import pandas as pd\n",
        "import numpy as np\n",
        "import matplotlib.pyplot as plt\n",
        "from sklearn.ensemble import RandomForestClassifier #A supervised model for classification purpose, multiple decision trees in training phase and combines for final product\n",
        "from sklearn.metrics import accuracy_score, confusion_matrix, classification_report\n",
        "from sklearn.model_selection import train_test_split, GridSearchCV #GridSearchCV - used to perform gridSearch to find the best combination of hyperparamaters for best performance on training set\n",
        "from sklearn.metrics import confusion_matrix\n",
        "import seaborn as sns\n",
        "import pickle"
      ]
    },
    {
      "cell_type": "markdown",
      "source": [
        "# New Section"
      ],
      "metadata": {
        "id": "SY1GOn3M-0ky"
      }
    },
    {
      "cell_type": "code",
      "source": [
        "#Loading the data for the model\n",
        "df = pd.read_csv(\"traindata.csv\")"
      ],
      "metadata": {
        "id": "COG5kZnH_KAF"
      },
      "execution_count": null,
      "outputs": []
    },
    {
      "cell_type": "code",
      "source": [
        "#weatherfeatures needed to train the model\n",
        "weather_features = ['PRCP', 'SNOW', 'SNWD', 'TMAX', 'AWND', 'LATITUDE', 'LONGITUDE', 'DEP_AIRPORT_HIST', 'DAY_HISTORICAL', 'DEP_DEL15']\n",
        "df = df[weather_features]"
      ],
      "metadata": {
        "id": "y0QEVg-z_KCq"
      },
      "execution_count": null,
      "outputs": []
    },
    {
      "cell_type": "code",
      "source": [
        "print(df)"
      ],
      "metadata": {
        "colab": {
          "base_uri": "https://localhost:8080/"
        },
        "id": "VynnXDXD_KGC",
        "outputId": "ac800331-53a3-4be5-a80a-26d534fbd40b"
      },
      "execution_count": null,
      "outputs": [
        {
          "output_type": "stream",
          "name": "stdout",
          "text": [
            "       PRCP  SNOW  SNWD  TMAX   AWND  LATITUDE  LONGITUDE  DEP_AIRPORT_HIST  \\\n",
            "0      0.00   0.0   0.0  95.0   4.25    35.219    -80.936          0.273236   \n",
            "1      0.00   0.0   0.0  71.0  11.41    39.774   -104.880          0.121849   \n",
            "2      0.00   0.0   0.0  54.0   0.45    34.729    -92.234          0.187867   \n",
            "3      0.00   0.0   0.0  64.0   8.05    32.733   -117.187          0.141446   \n",
            "4      0.01   0.0   0.0  94.0  10.51    41.978    -87.906          0.193761   \n",
            "...     ...   ...   ...   ...    ...       ...        ...               ...   \n",
            "15356  0.00   0.0   0.0  71.0   8.72    40.696    -74.172          0.158888   \n",
            "15357  0.00   0.0   0.0  96.0   8.72    32.894    -97.030          0.187867   \n",
            "15358  0.00   0.0   0.0  53.0   7.61    33.641    -84.427          0.187867   \n",
            "15359  0.00   0.0   0.0  92.0   2.46    35.812    -83.992          0.176676   \n",
            "15360  0.13   0.0   0.0  39.0  17.00    41.978    -87.906               NaN   \n",
            "\n",
            "       DAY_HISTORICAL  DEP_DEL15  \n",
            "0            0.222538          0  \n",
            "1            0.237972          0  \n",
            "2            0.139886          0  \n",
            "3            0.132868          0  \n",
            "4            0.203027          0  \n",
            "...               ...        ...  \n",
            "15356        0.165371          0  \n",
            "15357        0.242021          0  \n",
            "15358        0.180607          0  \n",
            "15359        0.128298          0  \n",
            "15360             NaN          0  \n",
            "\n",
            "[15361 rows x 10 columns]\n"
          ]
        }
      ]
    },
    {
      "cell_type": "code",
      "source": [
        "#Preprocessing and cleaning the data, removing all the missing values\n",
        "df.dropna(inplace = True)\n"
      ],
      "metadata": {
        "id": "03oNJ2A-_KIH"
      },
      "execution_count": null,
      "outputs": []
    },
    {
      "cell_type": "code",
      "source": [
        "print(df)"
      ],
      "metadata": {
        "colab": {
          "base_uri": "https://localhost:8080/"
        },
        "id": "_-6lhaEt_KJ9",
        "outputId": "fd7efae9-83d4-43d3-e42c-e3113ed0203b"
      },
      "execution_count": null,
      "outputs": [
        {
          "output_type": "stream",
          "name": "stdout",
          "text": [
            "       PRCP  SNOW  SNWD  TMAX   AWND  LATITUDE  LONGITUDE  DEP_AIRPORT_HIST  \\\n",
            "0      0.00   0.0   0.0  95.0   4.25    35.219    -80.936          0.273236   \n",
            "1      0.00   0.0   0.0  71.0  11.41    39.774   -104.880          0.121849   \n",
            "2      0.00   0.0   0.0  54.0   0.45    34.729    -92.234          0.187867   \n",
            "3      0.00   0.0   0.0  64.0   8.05    32.733   -117.187          0.141446   \n",
            "4      0.01   0.0   0.0  94.0  10.51    41.978    -87.906          0.193761   \n",
            "...     ...   ...   ...   ...    ...       ...        ...               ...   \n",
            "15355  0.01   0.0   0.0  71.0  16.78    32.894    -97.030          0.187867   \n",
            "15356  0.00   0.0   0.0  71.0   8.72    40.696    -74.172          0.158888   \n",
            "15357  0.00   0.0   0.0  96.0   8.72    32.894    -97.030          0.187867   \n",
            "15358  0.00   0.0   0.0  53.0   7.61    33.641    -84.427          0.187867   \n",
            "15359  0.00   0.0   0.0  92.0   2.46    35.812    -83.992          0.176676   \n",
            "\n",
            "       DAY_HISTORICAL  DEP_DEL15  \n",
            "0            0.222538          0  \n",
            "1            0.237972          0  \n",
            "2            0.139886          0  \n",
            "3            0.132868          0  \n",
            "4            0.203027          0  \n",
            "...               ...        ...  \n",
            "15355        0.244981          1  \n",
            "15356        0.165371          0  \n",
            "15357        0.242021          0  \n",
            "15358        0.180607          0  \n",
            "15359        0.128298          0  \n",
            "\n",
            "[15360 rows x 10 columns]\n"
          ]
        }
      ]
    },
    {
      "cell_type": "code",
      "source": [
        "#Spliting the data into training and testing set\n",
        "X = df.iloc[:,:-1].values\n",
        "y = df.iloc[:,-1].values"
      ],
      "metadata": {
        "id": "VS8ygYxk_KO1"
      },
      "execution_count": null,
      "outputs": []
    },
    {
      "cell_type": "code",
      "source": [
        "#Training set\n",
        "print(X)"
      ],
      "metadata": {
        "colab": {
          "base_uri": "https://localhost:8080/"
        },
        "id": "iVrZbrLA_KQw",
        "outputId": "903c4dfa-0052-423e-a566-9e1f25621cbe"
      },
      "execution_count": null,
      "outputs": [
        {
          "output_type": "stream",
          "name": "stdout",
          "text": [
            "[[   0.            0.            0.         ...  -80.936\n",
            "     0.27323574    0.22253848]\n",
            " [   0.            0.            0.         ... -104.88\n",
            "     0.12184874    0.23797187]\n",
            " [   0.            0.            0.         ...  -92.234\n",
            "     0.18786731    0.13988607]\n",
            " ...\n",
            " [   0.            0.            0.         ...  -97.03\n",
            "     0.18786731    0.24202135]\n",
            " [   0.            0.            0.         ...  -84.427\n",
            "     0.18786731    0.18060696]\n",
            " [   0.            0.            0.         ...  -83.992\n",
            "     0.17667591    0.12829813]]\n"
          ]
        }
      ]
    },
    {
      "cell_type": "code",
      "source": [
        "#Testing set\n",
        "print(y)"
      ],
      "metadata": {
        "colab": {
          "base_uri": "https://localhost:8080/"
        },
        "id": "mldO1qtk_KR2",
        "outputId": "455e88d4-21a8-46d7-cdab-f18d815c699d"
      },
      "execution_count": null,
      "outputs": [
        {
          "output_type": "stream",
          "name": "stdout",
          "text": [
            "[0 0 0 ... 0 0 0]\n"
          ]
        }
      ]
    },
    {
      "cell_type": "code",
      "source": [
        "X_train,X_test,y_train,y_test = train_test_split(X, y, test_size=0.2, random_state= 40)\n"
      ],
      "metadata": {
        "id": "viiDGjyr_KVT"
      },
      "execution_count": null,
      "outputs": []
    },
    {
      "cell_type": "code",
      "source": [
        "#Now getting all the data, we have to train our random forest classifier\n",
        "forest_classifier =  RandomForestClassifier(random_state= 40)\n",
        "#hyperparameter values to be searched during the GridSearchCV \n",
        "dict_object = {'n_estimators': [50, 100, 200], 'max_depth': [None, 5, 10], 'min_samples_split': [2, 5, 10]}\n",
        "search_Grid = GridSearchCV(forest_classifier,dict_object, cv = 10, n_jobs = -1) #njobs = no of cpu cores,cv = cross validation fold depending on your dataset\n",
        "search_Grid.fit(X_train,y_train)\n",
        "#getting the best estimator\n",
        "forest_best_est = search_Grid.best_estimator_\n",
        "\n"
      ],
      "metadata": {
        "id": "D9qsHFe1_KXX"
      },
      "execution_count": null,
      "outputs": []
    },
    {
      "cell_type": "code",
      "source": [
        "y_predict = forest_best_est.predict(X_test)\n",
        "confusion_matrix = confusion_matrix(y_test,y_predict)\n",
        "label_name = ['Not dealyed', 'Delayed']\n",
        "sns.heatmap(confusion_matrix, annot=True, fmt='d', cmap='Reds', xticklabels=label_name, yticklabels=label_name)\n",
        "#Plotting the predicted and the actualvalues\n",
        "plt.title('Flight Delay Prediction Confusion Matrix')\n",
        "plt.xlabel('Predicted Class')\n",
        "plt.ylabel('Actual Class')\n",
        "\n",
        "# Show plot\n",
        "plt.show()"
      ],
      "metadata": {
        "colab": {
          "base_uri": "https://localhost:8080/",
          "height": 472
        },
        "id": "2J48qTYx_KZa",
        "outputId": "b10d10d5-4990-4c4a-cf46-26ef4dbfd534"
      },
      "execution_count": null,
      "outputs": [
        {
          "output_type": "display_data",
          "data": {
            "text/plain": [
              "<Figure size 640x480 with 2 Axes>"
            ],
            "image/png": "[encoded data removed]"
          },
          "metadata": {}
        }
      ]
    },
    {
      "cell_type": "code",
      "source": [
        "#Accuracy checking\n",
        "print(\"Accuracy score:\", accuracy_score(y_test, y_predict))\n",
        "print(\"Classification report: \", classification_report(y_test, y_predict))\n",
        "\n",
        "#RESUlT : Accuracy rate of 82%\n"
      ],
      "metadata": {
        "colab": {
          "base_uri": "https://localhost:8080/"
        },
        "id": "5T6XhVNI_Kax",
        "outputId": "541c3d39-820f-46d0-92cc-d52aeb92ee1d"
      },
      "execution_count": null,
      "outputs": [
        {
          "output_type": "stream",
          "name": "stdout",
          "text": [
            "Accuracy score: 0.8063151041666666\n",
            "Classification report:                precision    recall  f1-score   support\n",
            "\n",
            "           0       0.81      1.00      0.89      2478\n",
            "           1       0.00      0.00      0.00       594\n",
            "\n",
            "    accuracy                           0.81      3072\n",
            "   macro avg       0.40      0.50      0.45      3072\n",
            "weighted avg       0.65      0.81      0.72      3072\n",
            "\n"
          ]
        }
      ]
    },
    {
      "cell_type": "code",
      "source": [],
      "metadata": {
        "id": "p3DgP2fd_KdD"
      },
      "execution_count": null,
      "outputs": []
    }
  ]
}